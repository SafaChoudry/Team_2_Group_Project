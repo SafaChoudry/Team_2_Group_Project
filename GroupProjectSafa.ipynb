{
 "cells": [
  {
   "cell_type": "code",
   "execution_count": 186,
   "id": "0123eb8f-6570-4f4a-8085-890af0f359f3",
   "metadata": {
    "tags": []
   },
   "outputs": [],
   "source": [
    "import pandas as pd\n",
    "import matplotlib.pyplot as plt\n",
    "import seaborn as sns"
   ]
  },
  {
   "cell_type": "code",
   "execution_count": 187,
   "id": "e3e725f0-3e15-43a0-8dd3-aa51e20a5cc6",
   "metadata": {
    "tags": []
   },
   "outputs": [
    {
     "data": {
      "text/html": [
       "<div>\n",
       "<style scoped>\n",
       "    .dataframe tbody tr th:only-of-type {\n",
       "        vertical-align: middle;\n",
       "    }\n",
       "\n",
       "    .dataframe tbody tr th {\n",
       "        vertical-align: top;\n",
       "    }\n",
       "\n",
       "    .dataframe thead th {\n",
       "        text-align: right;\n",
       "    }\n",
       "</style>\n",
       "<table border=\"1\" class=\"dataframe\">\n",
       "  <thead>\n",
       "    <tr style=\"text-align: right;\">\n",
       "      <th></th>\n",
       "      <th>Date</th>\n",
       "      <th>Product_ID</th>\n",
       "      <th>Product_Name</th>\n",
       "      <th>Category</th>\n",
       "      <th>Sales_Price</th>\n",
       "      <th>Cost_Price</th>\n",
       "      <th>Quantity_Sold</th>\n",
       "      <th>Inventory_Count</th>\n",
       "    </tr>\n",
       "  </thead>\n",
       "  <tbody>\n",
       "    <tr>\n",
       "      <th>0</th>\n",
       "      <td>2023-01-01</td>\n",
       "      <td>1001</td>\n",
       "      <td>Product A</td>\n",
       "      <td>Electronics</td>\n",
       "      <td>500</td>\n",
       "      <td>350</td>\n",
       "      <td>20</td>\n",
       "      <td>100</td>\n",
       "    </tr>\n",
       "    <tr>\n",
       "      <th>1</th>\n",
       "      <td>2023-01-02</td>\n",
       "      <td>1002</td>\n",
       "      <td>Product B</td>\n",
       "      <td>Electronics</td>\n",
       "      <td>600</td>\n",
       "      <td>400</td>\n",
       "      <td>15</td>\n",
       "      <td>80</td>\n",
       "    </tr>\n",
       "    <tr>\n",
       "      <th>2</th>\n",
       "      <td>2023-01-03</td>\n",
       "      <td>1003</td>\n",
       "      <td>Product C</td>\n",
       "      <td>Clothing</td>\n",
       "      <td>50</td>\n",
       "      <td>30</td>\n",
       "      <td>50</td>\n",
       "      <td>200</td>\n",
       "    </tr>\n",
       "    <tr>\n",
       "      <th>3</th>\n",
       "      <td>2023-01-04</td>\n",
       "      <td>1004</td>\n",
       "      <td>Product D</td>\n",
       "      <td>Clothing</td>\n",
       "      <td>40</td>\n",
       "      <td>25</td>\n",
       "      <td>80</td>\n",
       "      <td>120</td>\n",
       "    </tr>\n",
       "    <tr>\n",
       "      <th>4</th>\n",
       "      <td>2023-01-05</td>\n",
       "      <td>1005</td>\n",
       "      <td>Product E</td>\n",
       "      <td>Home Decor</td>\n",
       "      <td>100</td>\n",
       "      <td>70</td>\n",
       "      <td>30</td>\n",
       "      <td>150</td>\n",
       "    </tr>\n",
       "  </tbody>\n",
       "</table>\n",
       "</div>"
      ],
      "text/plain": [
       "         Date  Product_ID Product_Name     Category  Sales_Price  Cost_Price  \\\n",
       "0  2023-01-01        1001    Product A  Electronics          500         350   \n",
       "1  2023-01-02        1002    Product B  Electronics          600         400   \n",
       "2  2023-01-03        1003    Product C     Clothing           50          30   \n",
       "3  2023-01-04        1004    Product D     Clothing           40          25   \n",
       "4  2023-01-05        1005    Product E   Home Decor          100          70   \n",
       "\n",
       "   Quantity_Sold  Inventory_Count  \n",
       "0             20              100  \n",
       "1             15               80  \n",
       "2             50              200  \n",
       "3             80              120  \n",
       "4             30              150  "
      ]
     },
     "execution_count": 187,
     "metadata": {},
     "output_type": "execute_result"
    }
   ],
   "source": [
    "df = pd.read_csv(\"data/retail_sales_data.csv\")\n",
    "\n",
    "df.head()"
   ]
  },
  {
   "cell_type": "code",
   "execution_count": 188,
   "id": "7142ee78-1d04-4c8b-b963-60c0cfd51e1c",
   "metadata": {},
   "outputs": [
    {
     "data": {
      "text/plain": [
       "Index(['Date', 'Product_ID', 'Product_Name', 'Category', 'Sales_Price',\n",
       "       'Cost_Price', 'Quantity_Sold', 'Inventory_Count'],\n",
       "      dtype='object')"
      ]
     },
     "execution_count": 188,
     "metadata": {},
     "output_type": "execute_result"
    }
   ],
   "source": [
    "df.columns"
   ]
  },
  {
   "cell_type": "code",
   "execution_count": 189,
   "id": "49dc4cf0-e451-4dea-a7af-cebb4bbc0da1",
   "metadata": {
    "tags": []
   },
   "outputs": [
    {
     "data": {
      "text/html": [
       "<div>\n",
       "<style scoped>\n",
       "    .dataframe tbody tr th:only-of-type {\n",
       "        vertical-align: middle;\n",
       "    }\n",
       "\n",
       "    .dataframe tbody tr th {\n",
       "        vertical-align: top;\n",
       "    }\n",
       "\n",
       "    .dataframe thead th {\n",
       "        text-align: right;\n",
       "    }\n",
       "</style>\n",
       "<table border=\"1\" class=\"dataframe\">\n",
       "  <thead>\n",
       "    <tr style=\"text-align: right;\">\n",
       "      <th></th>\n",
       "      <th>Date</th>\n",
       "      <th>Product_ID</th>\n",
       "      <th>Product_Name</th>\n",
       "      <th>Category</th>\n",
       "      <th>Sales_Price</th>\n",
       "      <th>Cost_Price</th>\n",
       "      <th>Quantity_Sold</th>\n",
       "      <th>Inventory_Count</th>\n",
       "      <th>Month</th>\n",
       "    </tr>\n",
       "  </thead>\n",
       "  <tbody>\n",
       "    <tr>\n",
       "      <th>0</th>\n",
       "      <td>2023-01-01</td>\n",
       "      <td>1001</td>\n",
       "      <td>Product A</td>\n",
       "      <td>Electronics</td>\n",
       "      <td>500</td>\n",
       "      <td>350</td>\n",
       "      <td>20</td>\n",
       "      <td>100</td>\n",
       "      <td>January</td>\n",
       "    </tr>\n",
       "    <tr>\n",
       "      <th>1</th>\n",
       "      <td>2023-01-02</td>\n",
       "      <td>1002</td>\n",
       "      <td>Product B</td>\n",
       "      <td>Electronics</td>\n",
       "      <td>600</td>\n",
       "      <td>400</td>\n",
       "      <td>15</td>\n",
       "      <td>80</td>\n",
       "      <td>January</td>\n",
       "    </tr>\n",
       "    <tr>\n",
       "      <th>2</th>\n",
       "      <td>2023-01-03</td>\n",
       "      <td>1003</td>\n",
       "      <td>Product C</td>\n",
       "      <td>Clothing</td>\n",
       "      <td>50</td>\n",
       "      <td>30</td>\n",
       "      <td>50</td>\n",
       "      <td>200</td>\n",
       "      <td>January</td>\n",
       "    </tr>\n",
       "    <tr>\n",
       "      <th>3</th>\n",
       "      <td>2023-01-04</td>\n",
       "      <td>1004</td>\n",
       "      <td>Product D</td>\n",
       "      <td>Clothing</td>\n",
       "      <td>40</td>\n",
       "      <td>25</td>\n",
       "      <td>80</td>\n",
       "      <td>120</td>\n",
       "      <td>January</td>\n",
       "    </tr>\n",
       "    <tr>\n",
       "      <th>4</th>\n",
       "      <td>2023-01-05</td>\n",
       "      <td>1005</td>\n",
       "      <td>Product E</td>\n",
       "      <td>Home Decor</td>\n",
       "      <td>100</td>\n",
       "      <td>70</td>\n",
       "      <td>30</td>\n",
       "      <td>150</td>\n",
       "      <td>January</td>\n",
       "    </tr>\n",
       "  </tbody>\n",
       "</table>\n",
       "</div>"
      ],
      "text/plain": [
       "        Date  Product_ID Product_Name     Category  Sales_Price  Cost_Price  \\\n",
       "0 2023-01-01        1001    Product A  Electronics          500         350   \n",
       "1 2023-01-02        1002    Product B  Electronics          600         400   \n",
       "2 2023-01-03        1003    Product C     Clothing           50          30   \n",
       "3 2023-01-04        1004    Product D     Clothing           40          25   \n",
       "4 2023-01-05        1005    Product E   Home Decor          100          70   \n",
       "\n",
       "   Quantity_Sold  Inventory_Count    Month  \n",
       "0             20              100  January  \n",
       "1             15               80  January  \n",
       "2             50              200  January  \n",
       "3             80              120  January  \n",
       "4             30              150  January  "
      ]
     },
     "execution_count": 189,
     "metadata": {},
     "output_type": "execute_result"
    }
   ],
   "source": [
    "df['Date'] = pd.to_datetime(df['Date'])\n",
    "df['Month'] = df['Date'].dt.month_name(locale='English')\n",
    "\n",
    "df.head()"
   ]
  },
  {
   "cell_type": "code",
   "execution_count": 190,
   "id": "864f01d6-b968-4368-a509-14e1d6156228",
   "metadata": {
    "tags": []
   },
   "outputs": [
    {
     "data": {
      "text/plain": [
       "63940"
      ]
     },
     "execution_count": 190,
     "metadata": {},
     "output_type": "execute_result"
    }
   ],
   "source": [
    "jandf = df.loc[df['Month'] == \"January\"]\n",
    "Jan = jandf['Quantity_Sold']*jandf['Sales_Price']\n",
    "JAN = Jan.sum()\n",
    "JAN"
   ]
  },
  {
   "cell_type": "code",
   "execution_count": 191,
   "id": "f77171eb-3f23-4eb9-9a9a-bfa4eb11f4fe",
   "metadata": {
    "tags": []
   },
   "outputs": [
    {
     "data": {
      "text/plain": [
       "68914"
      ]
     },
     "execution_count": 191,
     "metadata": {},
     "output_type": "execute_result"
    }
   ],
   "source": [
    "febdf = df.loc[df['Month'] == \"February\"]\n",
    "feb = febdf['Quantity_Sold']*febdf['Sales_Price']\n",
    "FEB = feb.sum()\n",
    "FEB"
   ]
  },
  {
   "cell_type": "code",
   "execution_count": 192,
   "id": "08eaf10a-f5ff-4f6f-aaf9-67e3946591fb",
   "metadata": {
    "tags": []
   },
   "outputs": [
    {
     "data": {
      "text/plain": [
       "70906"
      ]
     },
     "execution_count": 192,
     "metadata": {},
     "output_type": "execute_result"
    }
   ],
   "source": [
    "mardf = df.loc[df['Month'] == \"March\"]\n",
    "mar = mardf['Quantity_Sold']*mardf['Sales_Price']\n",
    "MAR = mar.sum()\n",
    "MAR"
   ]
  },
  {
   "cell_type": "code",
   "execution_count": 193,
   "id": "b48bae23-e60c-4eeb-a668-21c9ade545e4",
   "metadata": {
    "tags": []
   },
   "outputs": [
    {
     "data": {
      "text/plain": [
       "78938"
      ]
     },
     "execution_count": 193,
     "metadata": {},
     "output_type": "execute_result"
    }
   ],
   "source": [
    "aprdf = df.loc[df['Month'] == \"April\"]\n",
    "apr = aprdf['Quantity_Sold']*aprdf['Sales_Price']\n",
    "APR = apr.sum()\n",
    "APR"
   ]
  },
  {
   "cell_type": "code",
   "execution_count": 194,
   "id": "7c34980b-d803-4363-821c-230010821478",
   "metadata": {
    "tags": []
   },
   "outputs": [
    {
     "data": {
      "image/png": "[encoded data removed]",
      "text/plain": [
       "<Figure size 750x350 with 1 Axes>"
      ]
     },
     "metadata": {},
     "output_type": "display_data"
    }
   ],
   "source": [
    "x = [\"January\", \"February\", \"March\", \"April\"]\n",
    "y = [JAN,FEB,MAR,APR]\n",
    "\n",
    "plt.plot(x, y)\n",
    "\n",
    "plt.show()"
   ]
  },
  {
   "cell_type": "markdown",
   "id": "89cfaca9-2f95-40ca-a3f6-b6e17f137768",
   "metadata": {},
   "source": [
    "## 10. The line plot shows an increased average revenue per month, with an exceptional increase from the month of March to April. The time from February to March shows a slower progress. "
   ]
  },
  {
   "cell_type": "code",
   "execution_count": 195,
   "id": "8ce098c2-c54e-40da-8f48-73bfc0736a5c",
   "metadata": {
    "tags": []
   },
   "outputs": [
    {
     "data": {
      "text/html": [
       "<div>\n",
       "<style scoped>\n",
       "    .dataframe tbody tr th:only-of-type {\n",
       "        vertical-align: middle;\n",
       "    }\n",
       "\n",
       "    .dataframe tbody tr th {\n",
       "        vertical-align: top;\n",
       "    }\n",
       "\n",
       "    .dataframe thead tr th {\n",
       "        text-align: left;\n",
       "    }\n",
       "\n",
       "    .dataframe thead tr:last-of-type th {\n",
       "        text-align: right;\n",
       "    }\n",
       "</style>\n",
       "<table border=\"1\" class=\"dataframe\">\n",
       "  <thead>\n",
       "    <tr>\n",
       "      <th></th>\n",
       "      <th>Sales_Price</th>\n",
       "    </tr>\n",
       "    <tr>\n",
       "      <th></th>\n",
       "      <th>mean</th>\n",
       "    </tr>\n",
       "    <tr>\n",
       "      <th>Category</th>\n",
       "      <th></th>\n",
       "    </tr>\n",
       "  </thead>\n",
       "  <tbody>\n",
       "    <tr>\n",
       "      <th>Clothing</th>\n",
       "      <td>51.1875</td>\n",
       "    </tr>\n",
       "    <tr>\n",
       "      <th>Electronics</th>\n",
       "      <td>535.0000</td>\n",
       "    </tr>\n",
       "    <tr>\n",
       "      <th>Home Decor</th>\n",
       "      <td>120.6250</td>\n",
       "    </tr>\n",
       "  </tbody>\n",
       "</table>\n",
       "</div>"
      ],
      "text/plain": [
       "            Sales_Price\n",
       "                   mean\n",
       "Category               \n",
       "Clothing        51.1875\n",
       "Electronics    535.0000\n",
       "Home Decor     120.6250"
      ]
     },
     "execution_count": 195,
     "metadata": {},
     "output_type": "execute_result"
    }
   ],
   "source": [
    "df_group = df.groupby(['Category']).agg({'Sales_Price': ['mean']})\n",
    "\n",
    "df_group"
   ]
  },
  {
   "cell_type": "code",
   "execution_count": 196,
   "id": "2e88f155-ed84-48b4-865e-6bd402112246",
   "metadata": {
    "tags": []
   },
   "outputs": [
    {
     "data": {
      "text/plain": [
       "<Axes: title={'center': 'Average Sales Price per Category'}, xlabel='Category', ylabel='Average Sales Price'>"
      ]
     },
     "execution_count": 196,
     "metadata": {},
     "output_type": "execute_result"
    },
    {
     "data": {
      "image/png": "[encoded data removed]",
      "text/plain": [
       "<Figure size 800x600 with 1 Axes>"
      ]
     },
     "metadata": {},
     "output_type": "display_data"
    }
   ],
   "source": [
    "df_group.plot(kind='bar', title='Average Sales Price per Category',\n",
    "               ylabel='Average Sales Price', xlabel='Category', figsize=(8, 6))"
   ]
  },
  {
   "cell_type": "markdown",
   "id": "e06d71f3-7860-4e37-91c9-62254e4cbe17",
   "metadata": {},
   "source": [
    "## 11. Electronics has an average sales price that is far higher than that of clothing and home decor"
   ]
  },
  {
   "cell_type": "code",
   "execution_count": 197,
   "id": "bf99c3fc-20b8-45e7-ba8e-8726d94cf15b",
   "metadata": {
    "tags": []
   },
   "outputs": [
    {
     "data": {
      "image/png": "[encoded data removed]",
      "text/plain": [
       "<Figure size 750x350 with 1 Axes>"
      ]
     },
     "metadata": {},
     "output_type": "display_data"
    }
   ],
   "source": [
    "sns.scatterplot(x=\"Sales_Price\", y=\"Quantity_Sold\", data=df);"
   ]
  },
  {
   "cell_type": "markdown",
   "id": "b87cb6a9-7ec9-418a-9416-55fdf43548cf",
   "metadata": {},
   "source": [
    "## 12. According to the correlation plot, it can be noted that the more expensive an item is, the Quantity of sold items is less. This shows an negative correlation, as the graph shows an exponential decay. "
   ]
  },
  {
   "cell_type": "code",
   "execution_count": null,
   "id": "1e9ecbd5-c2a4-4306-bec4-2d7f18da5ba1",
   "metadata": {},
   "outputs": [],
   "source": []
  }
 ],
 "metadata": {
  "kernelspec": {
   "display_name": "Python 3 (ipykernel)",
   "language": "python",
   "name": "python3"
  },
  "language_info": {
   "codemirror_mode": {
    "name": "ipython",
    "version": 3
   },
   "file_extension": ".py",
   "mimetype": "text/x-python",
   "name": "python",
   "nbconvert_exporter": "python",
   "pygments_lexer": "ipython3",
   "version": "3.11.4"
  }
 },
 "nbformat": 4,
 "nbformat_minor": 5
}
